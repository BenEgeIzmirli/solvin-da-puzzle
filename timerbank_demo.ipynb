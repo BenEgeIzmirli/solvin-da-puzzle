{
 "cells": [
  {
   "cell_type": "code",
   "execution_count": 2,
   "metadata": {
    "collapsed": false
   },
   "outputs": [],
   "source": [
    "import timing\n",
    "import numpy as np"
   ]
  },
  {
   "cell_type": "code",
   "execution_count": 22,
   "metadata": {
    "collapsed": false
   },
   "outputs": [],
   "source": [
    "def f():\n",
    "    for i in range(100000):\n",
    "        tb.start('a')\n",
    "        a(i)\n",
    "        tb.pause('a')\n",
    "        tb.start('b')\n",
    "        b(i)\n",
    "        tb.pause('b')\n",
    "\n",
    "def a(i):\n",
    "    i**2\n",
    "\n",
    "def b(i):\n",
    "    np.sin(np.tanh(np.sin(i)**4))"
   ]
  },
  {
   "cell_type": "code",
   "execution_count": 23,
   "metadata": {
    "collapsed": false
   },
   "outputs": [
    {
     "name": "stdout",
     "output_type": "stream",
     "text": [
      "root: 2.1406 (total: 2.3213)\n",
      "---a: 0.3752 (0.3885)\n",
      "---b: 0.6598 (0.3933)\n"
     ]
    }
   ],
   "source": [
    "tb.reset()\n",
    "\n",
    "tb.start()\n",
    "f()\n",
    "tb.stop()\n",
    "tb.show(True)"
   ]
  },
  {
   "cell_type": "code",
   "execution_count": null,
   "metadata": {
    "collapsed": true
   },
   "outputs": [],
   "source": []
  }
 ],
 "metadata": {
  "kernelspec": {
   "display_name": "Python 2",
   "language": "python",
   "name": "python2"
  },
  "language_info": {
   "codemirror_mode": {
    "name": "ipython",
    "version": 2
   },
   "file_extension": ".py",
   "mimetype": "text/x-python",
   "name": "python",
   "nbconvert_exporter": "python",
   "pygments_lexer": "ipython2",
   "version": "2.7.10"
  },
  "name": "timerbank_demo.ipynb"
 },
 "nbformat": 4,
 "nbformat_minor": 0
}
