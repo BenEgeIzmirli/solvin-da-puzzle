{
 "cells": [
  {
   "cell_type": "code",
   "execution_count": 2,
   "metadata": {
    "collapsed": false
   },
   "outputs": [],
   "source": [
    "%matplotlib inline\n",
    "\n",
    "import __builtin__\n",
    "from solver import *\n",
    "from plotting_helpers import plot_some\n",
    "from board import *\n",
    "\n",
    "from piece import *\n",
    "import sys\n",
    "from multiprocessing import Pool\n",
    "import multiprocessing as mp"
   ]
  },
  {
   "cell_type": "code",
   "execution_count": null,
   "metadata": {
    "collapsed": false,
    "scrolled": false
   },
   "outputs": [],
   "source": [
    "b = Board()\n",
    "p1 = Piece('hexagon')\n",
    "b.place(p1,[6,1])\n",
    "\n",
    "p2 = Piece('line')\n",
    "p2.rotate(2)\n",
    "b.place(p2,[3,9])\n",
    "\n",
    "p3 = Piece('boat')\n",
    "p3.rotate(2)\n",
    "b.place(p3,[0,1])\n",
    "\n",
    "p4 = Piece('v')\n",
    "p4.rotate(2)\n",
    "b.place(p4,[0,10])\n",
    "\n",
    "p5 = Piece('s')\n",
    "p5.rotate()\n",
    "p5.mirror()\n",
    "b.place(p5,[0,9])\n",
    "\n",
    "p6 = Piece('check')\n",
    "p6.rotate(4)\n",
    "b.place(p6,[1,4])\n",
    "\n",
    "p7 = Piece('fedex')\n",
    "p7.mirror()\n",
    "b.place(p7,[0,7])\n",
    "\n",
    "# p8 = Piece('mountains')\n",
    "# p8.rotate(5)\n",
    "# b.place(p8,[3,4])\n",
    "\n",
    "# p9 = Piece('heart')\n",
    "# p9.mirror()\n",
    "# b.place(p9,[2,5])\n",
    "\n",
    "# p10 = Piece('weird')\n",
    "\n",
    "# p11 = Piece('tie')\n",
    "# p11.rotate()\n",
    "# b.place(p11,[4,3])\n",
    "\n",
    "# p12 = Piece('nike')\n",
    "# p12.mirror()\n",
    "# p12.rotate(2)\n",
    "# b.place(p12,[4,2])\n",
    "\n",
    "\n",
    "b.print_board()"
   ]
  },
  {
   "cell_type": "code",
   "execution_count": null,
   "metadata": {
    "collapsed": false
   },
   "outputs": [],
   "source": [
    "for soln in solve(b):\n",
    "    soln.print_board()"
   ]
  },
  {
   "cell_type": "code",
   "execution_count": null,
   "metadata": {
    "collapsed": true
   },
   "outputs": [],
   "source": []
  }
 ],
 "metadata": {
  "kernelspec": {
   "display_name": "Python 2 (SageMath)",
   "language": "python",
   "name": "python2"
  },
  "language_info": {
   "codemirror_mode": {
    "name": "ipython",
    "version": 2
   },
   "file_extension": ".py",
   "mimetype": "text/x-python",
   "name": "python",
   "nbconvert_exporter": "python",
   "pygments_lexer": "ipython2",
   "version": "2.7.10"
  },
  "name": "solving dis shiz.ipynb"
 },
 "nbformat": 4,
 "nbformat_minor": 0
}
