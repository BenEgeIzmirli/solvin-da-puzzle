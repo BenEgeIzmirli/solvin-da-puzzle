	{
 "cells": [
  {
   "cell_type": "code",
   "execution_count": 1,
   "metadata": {
    "collapsed": true
   },
   "outputs": [],
   "source": [
    "import numpy as np\n",
    "import matplotlib.pyplot as plt"
   ]
  },
  {
   "cell_type": "code",
   "execution_count": 97,
   "metadata": {
    "collapsed": false
   },
   "outputs": [],
   "source": [
    "class tile:\n",
    "    def __init__(self):\n",
    "        self.occupied = False\n",
    "        self.visited = False\n",
    "        self.neighbors = None\n",
    "        self.direction = None\n",
    "        self.coords = None\n",
    "\n",
    "class board:\n",
    "    def __init__(self):\n",
    "        self.board = list(range(8))\n",
    "        self.board[0] = list(range(11))\n",
    "        self.board[1] = list(range(13))\n",
    "        for i in range(6):\n",
    "            self.board[i+2] = list(range(13-2*i))\n",
    "        for i in range(len(self.board)):\n",
    "            if i<2:\n",
    "                direction = \"up\"\n",
    "            else:\n",
    "                direction = \"down\"\n",
    "            for j in self.board[i]:\n",
    "                new_t = tile()\n",
    "                new_t.direction = direction\n",
    "                new_t.coords = [i,j]\n",
    "                self.board[i][j] = new_t\n",
    "                \n",
    "                #direction = (direction == \"down\" ? \"up\" : \"down\")\n",
    "                if direction == \"down\":\n",
    "                    direction = \"up\"\n",
    "                elif direction == \"up\":\n",
    "                    direction = \"down\"\n",
    "        for i in range(len(self.board)):\n",
    "            for j in range(len(self.board[i])):\n",
    "                t = self.board[i][j]\n",
    "                this_n = []\n",
    "                horiz_index_left = j-1\n",
    "                horiz_index_right = j+1\n",
    "                if t.direction == \"up\":\n",
    "                    vert_index = i+1\n",
    "                elif t.direction == \"down\":\n",
    "                    vert_index = i-1\n",
    "                \n",
    "                if horiz_index_left>=0:\n",
    "                    this_n.append(self.board[i][horiz_index_left])\n",
    "                if horiz_index_right<len(self.board[i]):\n",
    "                    this_n.append(self.board[i][horiz_index_right])\n",
    "                \n",
    "                if vert_index in list(range(len(self.board))):\n",
    "                    if i==0 and t.direction == \"up\":\n",
    "                        this_n.append(self.board[vert_index][j+1])\n",
    "                    if i==1 and t.direction == \"up\":\n",
    "                        this_n.append(self.board[vert_index][j])\n",
    "                    if i==1 and t.direction == \"down\":\n",
    "                        this_n.append(self.board[vert_index][j-1])\n",
    "                    if i==2 and t.direction == \"up\":\n",
    "                        this_n.append(self.board[vert_index][j-1])\n",
    "                    if i==2 and t.direction == \"down\":\n",
    "                        this_n.append(self.board[vert_index][j])\n",
    "                    for k in range(5):\n",
    "                        if i==k+3 and t.direction == \"up\":\n",
    "                            this_n.append(self.board[vert_index][j-1])\n",
    "                        if i==k+3 and t.direction == \"down\":\n",
    "                            this_n.append(self.board[vert_index][j+1])\n",
    "                self.board[i][j].neighbors = this_n\n",
    "\n",
    "    def print_board(self):\n",
    "        for i in range(len(self.board)):\n",
    "            line = \"\"\n",
    "            sq = \"\"\n",
    "            if i == 0:\n",
    "                line = line + \"    \"\n",
    "                sq = sq + \"    \"\n",
    "            if i > 2:\n",
    "                for j in range(i-2):\n",
    "                    line = line + \"    \"\n",
    "                    sq = sq + \"    \"\n",
    "            for j in range(len(self.board[i])):\n",
    "                d = self.board[i][j].direction\n",
    "                if d == \"down\":\n",
    "                    sq = sq + \" d \"\n",
    "                else:\n",
    "                    sq = sq + \" u \"\n",
    "                if j<len(self.board[i])-1:\n",
    "                    sq = sq + \"|\"\n",
    "                line = line + \"----\"\n",
    "            print(line)\n",
    "            print(sq)"
   ]
  },
  {
   "cell_type": "code",
   "execution_count": 98,
   "metadata": {
    "collapsed": false
   },
   "outputs": [],
   "source": [
    "a = board()"
   ]
  },
  {
   "cell_type": "code",
   "execution_count": 99,
   "metadata": {
    "collapsed": false
   },
   "outputs": [
    {
     "name": "stdout",
     "output_type": "stream",
     "text": [
      "    --------------------------------------------\n",
      "     u | d | u | d | u | d | u | d | u | d | u \n",
      "----------------------------------------------------\n",
      " u | d | u | d | u | d | u | d | u | d | u | d | u \n",
      "----------------------------------------------------\n",
      " d | u | d | u | d | u | d | u | d | u | d | u | d \n",
      "    --------------------------------------------\n",
      "     d | u | d | u | d | u | d | u | d | u | d \n",
      "        ------------------------------------\n",
      "         d | u | d | u | d | u | d | u | d \n",
      "            ----------------------------\n",
      "             d | u | d | u | d | u | d \n",
      "                --------------------\n",
      "                 d | u | d | u | d \n",
      "                    ------------\n",
      "                     d | u | d \n"
     ]
    }
   ],
   "source": [
    "a.print_board()\n"
   ]
  },
  {
   "cell_type": "code",
   "execution_count": 100,
   "metadata": {
    "collapsed": false
   },
   "outputs": [
    {
     "name": "stdout",
     "output_type": "stream",
     "text": [
      "[2, 3]\n",
      "[2, 5]\n",
      "[1, 4]\n"
     ]
    }
   ],
   "source": [
    "n = a.board[2][4].neighbors\n",
    "for n1 in n:\n",
    "    print(n1.coords)"
   ]
  },
  {
   "cell_type": "code",
   "execution_count": null,
   "metadata": {
    "collapsed": true
   },
   "outputs": [],
   "source": []
  },
  {
   "cell_type": "code",
   "execution_count": null,
   "metadata": {
    "collapsed": true
   },
   "outputs": [],
   "source": []
  }
 ],
 "metadata": {
  "kernelspec": {
   "display_name": "Python 2",
   "language": "python",
   "name": "python2"
  },
  "language_info": {
   "codemirror_mode": {
    "name": "ipython",
    "version": 2
   },
   "file_extension": ".py",
   "mimetype": "text/x-python",
   "name": "python",
   "nbconvert_exporter": "python",
   "pygments_lexer": "ipython2",
   "version": "2.7.9"
  }
 },
 "nbformat": 4,
 "nbformat_minor": 0
}

